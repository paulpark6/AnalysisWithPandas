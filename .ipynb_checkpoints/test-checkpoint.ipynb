{
 "cells": [
  {
   "cell_type": "code",
   "execution_count": 15,
   "id": "233ac4ce",
   "metadata": {},
   "outputs": [
    {
     "name": "stdout",
     "output_type": "stream",
     "text": [
      "hello world\n"
     ]
    }
   ],
   "source": [
    "print('hello world')"
   ]
  },
  {
   "cell_type": "markdown",
   "id": "df1a3f1a",
   "metadata": {},
   "source": [
    "# sample headline\n",
    "*Note: this text will be italicized.\n",
    "\n",
    "## Another Headline (H2)\n",
    "\n",
    "This is a normal paragraph.\n",
    "\n",
    "Basic formatting of *italics* and **bold** is supported. This *canbe **nested** like* so.\n",
    "\n",
    "### What this notebook shows\n",
    "\n",
    "1. how to get started with notebooks\n",
    "2. how to execute code\n",
    "3. how to add markdown\n",
    "4. And ... other stuff"
   ]
  },
  {
   "cell_type": "code",
   "execution_count": 16,
   "id": "4e6fbbde",
   "metadata": {},
   "outputs": [
    {
     "name": "stdout",
     "output_type": "stream",
     "text": [
      "good bye\n"
     ]
    }
   ],
   "source": [
    "print('good bye')"
   ]
  },
  {
   "cell_type": "code",
   "execution_count": 8,
   "id": "e70bb6b4",
   "metadata": {},
   "outputs": [
    {
     "data": {
      "text/plain": [
       "'bye'"
      ]
     },
     "execution_count": 8,
     "metadata": {},
     "output_type": "execute_result"
    }
   ],
   "source": [
    "'bye'"
   ]
  },
  {
   "cell_type": "code",
   "execution_count": null,
   "id": "5edfb9cd",
   "metadata": {},
   "outputs": [],
   "source": []
  }
 ],
 "metadata": {
  "kernelspec": {
   "display_name": "Python 3 (ipykernel)",
   "language": "python",
   "name": "python3"
  },
  "language_info": {
   "codemirror_mode": {
    "name": "ipython",
    "version": 3
   },
   "file_extension": ".py",
   "mimetype": "text/x-python",
   "name": "python",
   "nbconvert_exporter": "python",
   "pygments_lexer": "ipython3",
   "version": "3.9.6"
  }
 },
 "nbformat": 4,
 "nbformat_minor": 5
}
