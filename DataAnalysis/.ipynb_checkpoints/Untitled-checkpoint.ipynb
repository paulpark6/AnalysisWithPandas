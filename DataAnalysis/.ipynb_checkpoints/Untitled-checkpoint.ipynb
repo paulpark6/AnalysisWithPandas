{
 "cells": [
  {
   "cell_type": "markdown",
   "id": "b4703b99",
   "metadata": {},
   "source": [
    "### IMPORT CSV"
   ]
  },
  {
   "cell_type": "code",
   "execution_count": 1,
   "id": "9d215de8",
   "metadata": {
    "scrolled": true
   },
   "outputs": [
    {
     "data": {
      "text/plain": [
       "'C:\\\\GitHub-Projects\\\\DataAnalysis\\\\AnalysisWithPandas\\\\DataAnalysis'"
      ]
     },
     "execution_count": 1,
     "metadata": {},
     "output_type": "execute_result"
    }
   ],
   "source": [
    "%pwd"
   ]
  },
  {
   "cell_type": "code",
   "execution_count": 2,
   "id": "9530d53e",
   "metadata": {},
   "outputs": [
    {
     "name": "stdout",
     "output_type": "stream",
     "text": [
      "C:\\GitHub-Projects\\DataAnalysis\\AnalysisWithPandas\n",
      " Volume in drive C is Windows\n",
      " Volume Serial Number is BC94-D697\n",
      "\n",
      " Directory of C:\\GitHub-Projects\\DataAnalysis\\AnalysisWithPandas\n",
      "\n",
      "2023-01-02  20:18    <DIR>          .\n",
      "2022-12-29  02:23    <DIR>          ..\n",
      "2022-12-28  19:31                66 .gitattributes\n",
      "2023-01-02  21:00    <DIR>          DataAnalysis\n",
      "2023-01-02  20:46    <DIR>          DataSet\n",
      "2022-12-29  02:25               242 README.md\n",
      "2022-12-28  20:22                84 tempCodeRunnerFile.py\n",
      "2023-01-02  20:17    <DIR>          Tutorial\n",
      "2022-12-28  21:30    <DIR>          venv\n",
      "               3 File(s)            392 bytes\n",
      "               6 Dir(s)  475,258,671,104 bytes free\n"
     ]
    }
   ],
   "source": [
    "%cd ../DataSet/\n",
    "%ls"
   ]
  },
  {
   "cell_type": "code",
   "execution_count": null,
   "id": "26a4c051",
   "metadata": {},
   "outputs": [],
   "source": [
    "file_name = input(\"Enter File Name (sample1.csv) NO WHITE_SPACE!: \")"
   ]
  },
  {
   "cell_type": "code",
   "execution_count": null,
   "id": "b3022b76",
   "metadata": {},
   "outputs": [],
   "source": [
    "file_path = \"./../DataSet/\" + file_name"
   ]
  },
  {
   "cell_type": "code",
   "execution_count": null,
   "id": "b6ee691b",
   "metadata": {},
   "outputs": [],
   "source": [
    "import pandas as pd"
   ]
  },
  {
   "cell_type": "code",
   "execution_count": null,
   "id": "84994d58",
   "metadata": {},
   "outputs": [],
   "source": [
    "data = pd.read_csv(file_path)"
   ]
  },
  {
   "cell_type": "code",
   "execution_count": null,
   "id": "91b02f89",
   "metadata": {},
   "outputs": [],
   "source": [
    "data.head()"
   ]
  },
  {
   "cell_type": "code",
   "execution_count": null,
   "id": "a7cbd3be",
   "metadata": {},
   "outputs": [],
   "source": []
  }
 ],
 "metadata": {
  "kernelspec": {
   "display_name": "Python 3 (ipykernel)",
   "language": "python",
   "name": "python3"
  },
  "language_info": {
   "codemirror_mode": {
    "name": "ipython",
    "version": 3
   },
   "file_extension": ".py",
   "mimetype": "text/x-python",
   "name": "python",
   "nbconvert_exporter": "python",
   "pygments_lexer": "ipython3",
   "version": "3.9.6"
  }
 },
 "nbformat": 4,
 "nbformat_minor": 5
}
