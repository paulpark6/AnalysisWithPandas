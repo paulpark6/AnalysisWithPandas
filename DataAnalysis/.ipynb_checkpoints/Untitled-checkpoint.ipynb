{
 "cells": [
  {
   "cell_type": "markdown",
   "id": "b4703b99",
   "metadata": {},
   "source": [
    "### IMPORT CSV"
   ]
  },
  {
   "cell_type": "code",
   "execution_count": 67,
   "id": "9d215de8",
   "metadata": {
    "scrolled": false
   },
   "outputs": [
    {
     "data": {
      "text/plain": [
       "'C:\\\\GitHub-Projects\\\\DataAnalysis\\\\AnalysisWithPandas\\\\DataSet'"
      ]
     },
     "execution_count": 67,
     "metadata": {},
     "output_type": "execute_result"
    }
   ],
   "source": [
    "%pwd"
   ]
  },
  {
   "cell_type": "markdown",
   "id": "b3ca2ca8",
   "metadata": {},
   "source": [
    "## Here are the files in DataSet"
   ]
  },
  {
   "cell_type": "code",
   "execution_count": 68,
   "id": "f13e6578",
   "metadata": {
    "scrolled": true
   },
   "outputs": [
    {
     "name": "stdout",
     "output_type": "stream",
     "text": [
      "C:\\GitHub-Projects\\DataAnalysis\\AnalysisWithPandas\\DataSet\n",
      " Volume in drive C is Windows\n",
      " Volume Serial Number is BC94-D697\n",
      "\n",
      " Directory of C:\\GitHub-Projects\\DataAnalysis\\AnalysisWithPandas\\DataSet\n",
      "\n",
      "2023-01-02  21:30    <DIR>          .\n",
      "2023-01-02  20:18    <DIR>          ..\n",
      "2022-12-28  19:52            40,832 pokemon_data.csv\n",
      "2022-12-28  21:25            59,642 pokemon_data.xlsx\n",
      "2023-01-02  21:29             1,217 sample1.csv\n",
      "2023-01-01  21:45            41,984 sample1.xls\n",
      "2023-01-02  21:30             1,873 sample2.csv\n",
      "2023-01-01  21:45            14,352 sample2.xlsx\n",
      "               6 File(s)        159,900 bytes\n",
      "               2 Dir(s)  475,250,892,800 bytes free\n"
     ]
    }
   ],
   "source": [
    "%cd ../DataSet/\n",
    "%ls"
   ]
  },
  {
   "cell_type": "code",
   "execution_count": 69,
   "id": "6d2ac8c3",
   "metadata": {},
   "outputs": [
    {
     "name": "stdout",
     "output_type": "stream",
     "text": [
      "Enter File Name (sample1.csv) NO WHITE_SPACE!: sample1.csv\n"
     ]
    }
   ],
   "source": [
    "file_name = input(\"Enter File Name (sample1.csv) NO WHITE_SPACE!: \")"
   ]
  },
  {
   "cell_type": "code",
   "execution_count": 70,
   "id": "50a5425e",
   "metadata": {},
   "outputs": [],
   "source": [
    "file_path = \"./../DataSet/\" + file_name"
   ]
  },
  {
   "cell_type": "code",
   "execution_count": 71,
   "id": "a5ebc594",
   "metadata": {},
   "outputs": [
    {
     "name": "stdout",
     "output_type": "stream",
     "text": [
      "This is the file path ->\t./../DataSet/sample1.csv\n"
     ]
    }
   ],
   "source": [
    "print(\"This is the file path ->\\t\" + file_path)"
   ]
  },
  {
   "cell_type": "code",
   "execution_count": 72,
   "id": "b6ee691b",
   "metadata": {},
   "outputs": [],
   "source": [
    "import pandas as pd"
   ]
  },
  {
   "cell_type": "code",
   "execution_count": 73,
   "id": "84994d58",
   "metadata": {},
   "outputs": [],
   "source": [
    "data = pd.read_csv(file_path,skiprows=[0])"
   ]
  },
  {
   "cell_type": "code",
   "execution_count": 74,
   "id": "91b02f89",
   "metadata": {
    "scrolled": true
   },
   "outputs": [
    {
     "data": {
      "text/html": [
       "<div>\n",
       "<style scoped>\n",
       "    .dataframe tbody tr th:only-of-type {\n",
       "        vertical-align: middle;\n",
       "    }\n",
       "\n",
       "    .dataframe tbody tr th {\n",
       "        vertical-align: top;\n",
       "    }\n",
       "\n",
       "    .dataframe thead th {\n",
       "        text-align: right;\n",
       "    }\n",
       "</style>\n",
       "<table border=\"1\" class=\"dataframe\">\n",
       "  <thead>\n",
       "    <tr style=\"text-align: right;\">\n",
       "      <th></th>\n",
       "      <th>*HS코드(10자리)</th>\n",
       "      <th>*품명</th>\n",
       "      <th>*단가</th>\n",
       "      <th>*단위수량</th>\n",
       "      <th>*단위수량단위CODE</th>\n",
       "      <th>*수량</th>\n",
       "      <th>*수량단위CODE</th>\n",
       "      <th>*금액</th>\n",
       "      <th>*구매일자(숫자만)</th>\n",
       "    </tr>\n",
       "  </thead>\n",
       "  <tbody>\n",
       "    <tr>\n",
       "      <th>0</th>\n",
       "      <td>2710197120</td>\n",
       "      <td>Engine oil for Automotive  SN 5W-40 (200)</td>\n",
       "      <td>361.56</td>\n",
       "      <td>1</td>\n",
       "      <td>EA</td>\n",
       "      <td>2</td>\n",
       "      <td>EA</td>\n",
       "      <td>723.12</td>\n",
       "      <td>20221115</td>\n",
       "    </tr>\n",
       "    <tr>\n",
       "      <th>1</th>\n",
       "      <td>2710197120</td>\n",
       "      <td>Engine oil for Automotive SN 10W-40 (4x4)</td>\n",
       "      <td>29.27</td>\n",
       "      <td>1</td>\n",
       "      <td>EA</td>\n",
       "      <td>300</td>\n",
       "      <td>EA</td>\n",
       "      <td>8781.00</td>\n",
       "      <td>20221115</td>\n",
       "    </tr>\n",
       "    <tr>\n",
       "      <th>2</th>\n",
       "      <td>2710197120</td>\n",
       "      <td>Engine oil for Automotive SN 10W-40 (200)</td>\n",
       "      <td>344.49</td>\n",
       "      <td>1</td>\n",
       "      <td>EA</td>\n",
       "      <td>4</td>\n",
       "      <td>EA</td>\n",
       "      <td>1377.96</td>\n",
       "      <td>20221115</td>\n",
       "    </tr>\n",
       "    <tr>\n",
       "      <th>3</th>\n",
       "      <td>2710197120</td>\n",
       "      <td>Engine oil for Automotive ECO C3 5W-30 (5x3)</td>\n",
       "      <td>36.84</td>\n",
       "      <td>1</td>\n",
       "      <td>EA</td>\n",
       "      <td>16</td>\n",
       "      <td>EA</td>\n",
       "      <td>589.44</td>\n",
       "      <td>20221115</td>\n",
       "    </tr>\n",
       "    <tr>\n",
       "      <th>4</th>\n",
       "      <td>2710197230</td>\n",
       "      <td>Gear oil HD 85W-140 (200)</td>\n",
       "      <td>427.04</td>\n",
       "      <td>1</td>\n",
       "      <td>EA</td>\n",
       "      <td>5</td>\n",
       "      <td>EA</td>\n",
       "      <td>2135.20</td>\n",
       "      <td>20221115</td>\n",
       "    </tr>\n",
       "  </tbody>\n",
       "</table>\n",
       "</div>"
      ],
      "text/plain": [
       "   *HS코드(10자리)                                           *품명     *단가  *단위수량  \\\n",
       "0   2710197120     Engine oil for Automotive  SN 5W-40 (200)  361.56      1   \n",
       "1   2710197120     Engine oil for Automotive SN 10W-40 (4x4)   29.27      1   \n",
       "2   2710197120     Engine oil for Automotive SN 10W-40 (200)  344.49      1   \n",
       "3   2710197120  Engine oil for Automotive ECO C3 5W-30 (5x3)   36.84      1   \n",
       "4   2710197230                     Gear oil HD 85W-140 (200)  427.04      1   \n",
       "\n",
       "  *단위수량단위CODE  *수량 *수량단위CODE      *금액  *구매일자(숫자만)  \n",
       "0          EA    2        EA   723.12    20221115  \n",
       "1          EA  300        EA  8781.00    20221115  \n",
       "2          EA    4        EA  1377.96    20221115  \n",
       "3          EA   16        EA   589.44    20221115  \n",
       "4          EA    5        EA  2135.20    20221115  "
      ]
     },
     "execution_count": 74,
     "metadata": {},
     "output_type": "execute_result"
    }
   ],
   "source": [
    "data.head()"
   ]
  },
  {
   "cell_type": "markdown",
   "id": "1c7362da",
   "metadata": {},
   "source": [
    "## Item Names"
   ]
  },
  {
   "cell_type": "code",
   "execution_count": 78,
   "id": "aa21f37d",
   "metadata": {},
   "outputs": [
    {
     "data": {
      "text/plain": [
       "0        Engine oil for Automotive  SN 5W-40 (200)\n",
       "1        Engine oil for Automotive SN 10W-40 (4x4)\n",
       "2        Engine oil for Automotive SN 10W-40 (200)\n",
       "3     Engine oil for Automotive ECO C3 5W-30 (5x3)\n",
       "4                        Gear oil HD 85W-140 (200)\n",
       "5                          Gear oil HD 80W-90 (20)\n",
       "6                        Gear oil HD 80W-90 (1x12)\n",
       "7              Auto transmission oil ATF VI (1x12)\n",
       "8              Auto transmission oil ATF III (200)\n",
       "9             Auto transmission oil ATF III (1x12)\n",
       "10     Engine oil for Automotive MA2 10W-40 (1x12)\n",
       "11              Auto transmission oil ATF VI (200)\n",
       "12                 HYDRAULIC FLUID AW 68 (200L DM)\n",
       "Name: *품명, dtype: object"
      ]
     },
     "execution_count": 78,
     "metadata": {},
     "output_type": "execute_result"
    }
   ],
   "source": [
    "data.loc[:,\"*품명\"]"
   ]
  },
  {
   "cell_type": "markdown",
   "id": "50e58145",
   "metadata": {},
   "source": [
    "## Total Sales"
   ]
  },
  {
   "cell_type": "code",
   "execution_count": 81,
   "id": "afae4b06",
   "metadata": {},
   "outputs": [
    {
     "data": {
      "text/html": [
       "<div>\n",
       "<style scoped>\n",
       "    .dataframe tbody tr th:only-of-type {\n",
       "        vertical-align: middle;\n",
       "    }\n",
       "\n",
       "    .dataframe tbody tr th {\n",
       "        vertical-align: top;\n",
       "    }\n",
       "\n",
       "    .dataframe thead th {\n",
       "        text-align: right;\n",
       "    }\n",
       "</style>\n",
       "<table border=\"1\" class=\"dataframe\">\n",
       "  <thead>\n",
       "    <tr style=\"text-align: right;\">\n",
       "      <th></th>\n",
       "      <th>*HS코드(10자리)</th>\n",
       "      <th>*품명</th>\n",
       "      <th>*단가</th>\n",
       "      <th>*단위수량</th>\n",
       "      <th>*단위수량단위CODE</th>\n",
       "      <th>*수량</th>\n",
       "      <th>*수량단위CODE</th>\n",
       "      <th>*금액</th>\n",
       "      <th>*구매일자(숫자만)</th>\n",
       "      <th>Total Sale for Item</th>\n",
       "    </tr>\n",
       "  </thead>\n",
       "  <tbody>\n",
       "    <tr>\n",
       "      <th>0</th>\n",
       "      <td>2710197120</td>\n",
       "      <td>Engine oil for Automotive  SN 5W-40 (200)</td>\n",
       "      <td>361.56</td>\n",
       "      <td>1</td>\n",
       "      <td>EA</td>\n",
       "      <td>2</td>\n",
       "      <td>EA</td>\n",
       "      <td>723.12</td>\n",
       "      <td>20221115</td>\n",
       "      <td>1446.24</td>\n",
       "    </tr>\n",
       "    <tr>\n",
       "      <th>1</th>\n",
       "      <td>2710197120</td>\n",
       "      <td>Engine oil for Automotive SN 10W-40 (4x4)</td>\n",
       "      <td>29.27</td>\n",
       "      <td>1</td>\n",
       "      <td>EA</td>\n",
       "      <td>300</td>\n",
       "      <td>EA</td>\n",
       "      <td>8781.00</td>\n",
       "      <td>20221115</td>\n",
       "      <td>2634300.00</td>\n",
       "    </tr>\n",
       "    <tr>\n",
       "      <th>2</th>\n",
       "      <td>2710197120</td>\n",
       "      <td>Engine oil for Automotive SN 10W-40 (200)</td>\n",
       "      <td>344.49</td>\n",
       "      <td>1</td>\n",
       "      <td>EA</td>\n",
       "      <td>4</td>\n",
       "      <td>EA</td>\n",
       "      <td>1377.96</td>\n",
       "      <td>20221115</td>\n",
       "      <td>5511.84</td>\n",
       "    </tr>\n",
       "    <tr>\n",
       "      <th>3</th>\n",
       "      <td>2710197120</td>\n",
       "      <td>Engine oil for Automotive ECO C3 5W-30 (5x3)</td>\n",
       "      <td>36.84</td>\n",
       "      <td>1</td>\n",
       "      <td>EA</td>\n",
       "      <td>16</td>\n",
       "      <td>EA</td>\n",
       "      <td>589.44</td>\n",
       "      <td>20221115</td>\n",
       "      <td>9431.04</td>\n",
       "    </tr>\n",
       "    <tr>\n",
       "      <th>4</th>\n",
       "      <td>2710197230</td>\n",
       "      <td>Gear oil HD 85W-140 (200)</td>\n",
       "      <td>427.04</td>\n",
       "      <td>1</td>\n",
       "      <td>EA</td>\n",
       "      <td>5</td>\n",
       "      <td>EA</td>\n",
       "      <td>2135.20</td>\n",
       "      <td>20221115</td>\n",
       "      <td>10676.00</td>\n",
       "    </tr>\n",
       "  </tbody>\n",
       "</table>\n",
       "</div>"
      ],
      "text/plain": [
       "   *HS코드(10자리)                                           *품명     *단가  *단위수량  \\\n",
       "0   2710197120     Engine oil for Automotive  SN 5W-40 (200)  361.56      1   \n",
       "1   2710197120     Engine oil for Automotive SN 10W-40 (4x4)   29.27      1   \n",
       "2   2710197120     Engine oil for Automotive SN 10W-40 (200)  344.49      1   \n",
       "3   2710197120  Engine oil for Automotive ECO C3 5W-30 (5x3)   36.84      1   \n",
       "4   2710197230                     Gear oil HD 85W-140 (200)  427.04      1   \n",
       "\n",
       "  *단위수량단위CODE  *수량 *수량단위CODE      *금액  *구매일자(숫자만)  Total Sale for Item  \n",
       "0          EA    2        EA   723.12    20221115              1446.24  \n",
       "1          EA  300        EA  8781.00    20221115           2634300.00  \n",
       "2          EA    4        EA  1377.96    20221115              5511.84  \n",
       "3          EA   16        EA   589.44    20221115              9431.04  \n",
       "4          EA    5        EA  2135.20    20221115             10676.00  "
      ]
     },
     "execution_count": 81,
     "metadata": {},
     "output_type": "execute_result"
    }
   ],
   "source": [
    "data[\"Total Sale for Item\"] = data[\"*단위수량\"] * data[\"*수량\"] * data[\"*금액\"]\n",
    "data.head()"
   ]
  },
  {
   "cell_type": "markdown",
   "id": "93f8fe1b",
   "metadata": {},
   "source": [
    "## Graph for total Sales"
   ]
  },
  {
   "cell_type": "code",
   "execution_count": 83,
   "id": "da83e760",
   "metadata": {},
   "outputs": [
    {
     "data": {
      "text/plain": [
       "<AxesSubplot:>"
      ]
     },
     "execution_count": 83,
     "metadata": {},
     "output_type": "execute_result"
    },
    {
     "data": {
      "image/png": "[encoded data removed]",
      "text/plain": [
       "<Figure size 640x480 with 1 Axes>"
      ]
     },
     "metadata": {},
     "output_type": "display_data"
    }
   ],
   "source": [
    "data['Total Sale for Item'].hist()"
   ]
  },
  {
   "cell_type": "code",
   "execution_count": null,
   "id": "0a45d0ad",
   "metadata": {},
   "outputs": [],
   "source": []
  }
 ],
 "metadata": {
  "kernelspec": {
   "display_name": "Python 3 (ipykernel)",
   "language": "python",
   "name": "python3"
  },
  "language_info": {
   "codemirror_mode": {
    "name": "ipython",
    "version": 3
   },
   "file_extension": ".py",
   "mimetype": "text/x-python",
   "name": "python",
   "nbconvert_exporter": "python",
   "pygments_lexer": "ipython3",
   "version": "3.9.6"
  }
 },
 "nbformat": 4,
 "nbformat_minor": 5
}
