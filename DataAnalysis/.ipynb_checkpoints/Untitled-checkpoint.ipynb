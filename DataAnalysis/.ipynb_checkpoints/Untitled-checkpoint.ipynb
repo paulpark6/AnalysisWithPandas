{
 "cells": [
  {
   "cell_type": "markdown",
   "id": "b4703b99",
   "metadata": {},
   "source": [
    "### IMPORT CSV"
   ]
  },
  {
   "cell_type": "code",
   "execution_count": 6,
   "id": "9d215de8",
   "metadata": {},
   "outputs": [
    {
     "data": {
      "text/plain": [
       "'C:\\\\GitHub-Projects\\\\DataAnalysis\\\\AnalysisWithPandas\\\\DataAnalysis'"
      ]
     },
     "execution_count": 6,
     "metadata": {},
     "output_type": "execute_result"
    }
   ],
   "source": [
    "%pwd"
   ]
  },
  {
   "cell_type": "code",
   "execution_count": 7,
   "id": "b6ee691b",
   "metadata": {},
   "outputs": [],
   "source": [
    "import pandas as pd"
   ]
  },
  {
   "cell_type": "code",
   "execution_count": 8,
   "id": "84994d58",
   "metadata": {},
   "outputs": [],
   "source": [
    "data = pd.read_csv(\"./../DataSet/sample1.csv\")"
   ]
  },
  {
   "cell_type": "code",
   "execution_count": 9,
   "id": "91b02f89",
   "metadata": {},
   "outputs": [
    {
     "data": {
      "text/html": [
       "<div>\n",
       "<style scoped>\n",
       "    .dataframe tbody tr th:only-of-type {\n",
       "        vertical-align: middle;\n",
       "    }\n",
       "\n",
       "    .dataframe tbody tr th {\n",
       "        vertical-align: top;\n",
       "    }\n",
       "\n",
       "    .dataframe thead th {\n",
       "        text-align: right;\n",
       "    }\n",
       "</style>\n",
       "<table border=\"1\" class=\"dataframe\">\n",
       "  <thead>\n",
       "    <tr style=\"text-align: right;\">\n",
       "      <th></th>\n",
       "      <th>[주의사항] (* 필수항목) (1) 양식은 조정하시면 안됩니다. (조정시 오류발생, 칸 크기는 조정가능) (2) 작성 시 다음 줄로(Alt+Enter) 넘기지 마시고, 1줄로 입력해주시기 바랍니다. [문서가 정상적으로 생성되지 않습니다]  (3) 구매물품 통화단위는 \"총금액 통화코드\"로 자동저장됩니다. 숫자 입력후 통화단위 변경은 작성 화면의 \"총금액 통화코드\"를 변경해주시기 바랍니다. (4)기타 사항 셀 메모 참고해주시기 바랍니다.\\t\\t\\t</th>\n",
       "      <th>Unnamed: 1</th>\n",
       "      <th>Unnamed: 2</th>\n",
       "      <th>Unnamed: 3</th>\n",
       "      <th>Unnamed: 4</th>\n",
       "      <th>Unnamed: 5</th>\n",
       "      <th>Unnamed: 6</th>\n",
       "      <th>Unnamed: 7</th>\n",
       "      <th>Unnamed: 8</th>\n",
       "    </tr>\n",
       "  </thead>\n",
       "  <tbody>\n",
       "    <tr>\n",
       "      <th>0</th>\n",
       "      <td>구매물품목록</td>\n",
       "      <td>NaN</td>\n",
       "      <td>NaN</td>\n",
       "      <td>NaN</td>\n",
       "      <td>NaN</td>\n",
       "      <td>NaN</td>\n",
       "      <td>NaN</td>\n",
       "      <td>NaN</td>\n",
       "      <td>NaN</td>\n",
       "    </tr>\n",
       "    <tr>\n",
       "      <th>1</th>\n",
       "      <td>*HS코드(10자리)</td>\n",
       "      <td>*품명</td>\n",
       "      <td>*단가</td>\n",
       "      <td>*단위수량</td>\n",
       "      <td>*단위수량단위CODE</td>\n",
       "      <td>*수량</td>\n",
       "      <td>*수량단위CODE</td>\n",
       "      <td>*금액</td>\n",
       "      <td>*구매일자(숫자만)</td>\n",
       "    </tr>\n",
       "    <tr>\n",
       "      <th>2</th>\n",
       "      <td>2710197120</td>\n",
       "      <td>Engine oil for Automotive  SN 5W-40 (200)</td>\n",
       "      <td>361.56</td>\n",
       "      <td>1</td>\n",
       "      <td>EA</td>\n",
       "      <td>2</td>\n",
       "      <td>EA</td>\n",
       "      <td>723.12</td>\n",
       "      <td>20221115</td>\n",
       "    </tr>\n",
       "    <tr>\n",
       "      <th>3</th>\n",
       "      <td>2710197120</td>\n",
       "      <td>Engine oil for Automotive SN 10W-40 (4x4)</td>\n",
       "      <td>29.27</td>\n",
       "      <td>1</td>\n",
       "      <td>EA</td>\n",
       "      <td>300</td>\n",
       "      <td>EA</td>\n",
       "      <td>8781</td>\n",
       "      <td>20221115</td>\n",
       "    </tr>\n",
       "    <tr>\n",
       "      <th>4</th>\n",
       "      <td>2710197120</td>\n",
       "      <td>Engine oil for Automotive SN 10W-40 (200)</td>\n",
       "      <td>344.49</td>\n",
       "      <td>1</td>\n",
       "      <td>EA</td>\n",
       "      <td>4</td>\n",
       "      <td>EA</td>\n",
       "      <td>1377.96</td>\n",
       "      <td>20221115</td>\n",
       "    </tr>\n",
       "  </tbody>\n",
       "</table>\n",
       "</div>"
      ],
      "text/plain": [
       "  [주의사항] (* 필수항목) (1) 양식은 조정하시면 안됩니다. (조정시 오류발생, 칸 크기는 조정가능) (2) 작성 시 다음 줄로(Alt+Enter) 넘기지 마시고, 1줄로 입력해주시기 바랍니다. [문서가 정상적으로 생성되지 않습니다]  (3) 구매물품 통화단위는 \"총금액 통화코드\"로 자동저장됩니다. 숫자 입력후 통화단위 변경은 작성 화면의 \"총금액 통화코드\"를 변경해주시기 바랍니다. (4)기타 사항 셀 메모 참고해주시기 바랍니다.\\t\\t\\t  \\\n",
       "0                                             구매물품목록                                                                                                                                                                                                           \n",
       "1                                        *HS코드(10자리)                                                                                                                                                                                                           \n",
       "2                                         2710197120                                                                                                                                                                                                           \n",
       "3                                         2710197120                                                                                                                                                                                                           \n",
       "4                                         2710197120                                                                                                                                                                                                           \n",
       "\n",
       "                                  Unnamed: 1 Unnamed: 2 Unnamed: 3  \\\n",
       "0                                        NaN        NaN        NaN   \n",
       "1                                        *품명        *단가      *단위수량   \n",
       "2  Engine oil for Automotive  SN 5W-40 (200)     361.56          1   \n",
       "3  Engine oil for Automotive SN 10W-40 (4x4)      29.27          1   \n",
       "4  Engine oil for Automotive SN 10W-40 (200)     344.49          1   \n",
       "\n",
       "    Unnamed: 4 Unnamed: 5 Unnamed: 6 Unnamed: 7  Unnamed: 8  \n",
       "0          NaN        NaN        NaN        NaN         NaN  \n",
       "1  *단위수량단위CODE        *수량  *수량단위CODE        *금액  *구매일자(숫자만)  \n",
       "2           EA          2         EA     723.12    20221115  \n",
       "3           EA        300         EA       8781    20221115  \n",
       "4           EA          4         EA    1377.96    20221115  "
      ]
     },
     "execution_count": 9,
     "metadata": {},
     "output_type": "execute_result"
    }
   ],
   "source": [
    "data.head()"
   ]
  },
  {
   "cell_type": "code",
   "execution_count": null,
   "id": "a7cbd3be",
   "metadata": {},
   "outputs": [],
   "source": []
  }
 ],
 "metadata": {
  "kernelspec": {
   "display_name": "Python 3 (ipykernel)",
   "language": "python",
   "name": "python3"
  },
  "language_info": {
   "codemirror_mode": {
    "name": "ipython",
    "version": 3
   },
   "file_extension": ".py",
   "mimetype": "text/x-python",
   "name": "python",
   "nbconvert_exporter": "python",
   "pygments_lexer": "ipython3",
   "version": "3.9.6"
  }
 },
 "nbformat": 4,
 "nbformat_minor": 5
}
